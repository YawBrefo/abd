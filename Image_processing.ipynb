{
 "cells": [
  {
   "cell_type": "code",
   "execution_count": null,
   "metadata": {
    "colab": {
     "base_uri": "https://localhost:8080/"
    },
    "id": "uV__T4uNSZCi",
    "outputId": "06f87c91-944a-488d-bf30-3af1c58fc1c7"
   },
   "outputs": [
    {
     "name": "stdout",
     "output_type": "stream",
     "text": [
      "Mounted at /content/drive\n"
     ]
    }
   ],
   "source": [
    "# Mount Drive\n",
    "from google.colab import drive\n",
    "drive.mount('/content/drive')"
   ]
  },
  {
   "cell_type": "code",
   "execution_count": null,
   "metadata": {
    "id": "K5obbIKtA9Wz"
   },
   "outputs": [],
   "source": [
    "# !pip install rasterio"
   ]
  },
  {
   "cell_type": "code",
   "execution_count": null,
   "metadata": {
    "id": "F9l-fUeM_tkd"
   },
   "outputs": [],
   "source": [
    "# import libraries\n",
    "# import  rasterio\n",
    "import os\n",
    "import subprocess\n",
    "import shutil\n",
    "import fnmatch\n",
    "from osgeo import gdal\n",
    "import cv2\n",
    "from PIL import Image\n",
    "import numpy as np\n",
    "import glob\n",
    "import pandas as pd\n",
    "from torch.utils.data import Dataset"
   ]
  },
  {
   "cell_type": "markdown",
   "metadata": {
    "id": "V87ZePkD9MpB"
   },
   "source": [
    "## Split Geotiff"
   ]
  },
  {
   "cell_type": "code",
   "execution_count": null,
   "metadata": {
    "id": "4A6JZwePvocj"
   },
   "outputs": [],
   "source": [
    "# function that splits Geotiffs into required pieces\n",
    "\n",
    "def create_tiles(src_path, dst_path):\n",
    "\n",
    "    # specify tile dimension\n",
    "    tile_size_x = 512\n",
    "    tile_size_y = 512\n",
    "\n",
    "    # dynamically get the image dimension\n",
    "    dataset = gdal.Open(src_path)\n",
    "    band = dataset.GetRasterBand(1)\n",
    "    xsize = band.XSize\n",
    "    ysize = band.YSize\n",
    "\n",
    "    # clip image using using tile_size and gdal_translate iteratively\n",
    "    for i in range(0, xsize, tile_size_x):\n",
    "        for j in range(0, ysize, tile_size_y):\n",
    "            com_string = \"gdal_translate -of GTIFF -srcwin \" + str(i) + \", \" + str(j) + \", \" + str(tile_size_x) + \", \" + str(tile_size_y) + \" \" + str(src_path) + \" \" + str(dst_path) + \"_\" + str(i) + \"_\" + str(j) + \".tif\"\n",
    "            print(com_string)\n",
    "            # os.system(com_string)"
   ]
  },
  {
   "cell_type": "code",
   "execution_count": null,
   "metadata": {
    "id": "eXbtDlODc-aF"
   },
   "outputs": [],
   "source": [
    "DATA_PATH = 'data'\n",
    "data_map = []\n",
    "pla_map = []\n",
    "sen_map = []\n",
    "\n",
    "for tile in glob.glob(f'{DATA_PATH}/Tile_*'):\n",
    "\n",
    "  for planet_img in glob.glob(f'{tile}/Planet_*_FullScene/*.tif'):\n",
    "    pla_map.append(planet_img)\n",
    "  \n",
    "  for sentinel_img in glob.glob(f'{tile}/Sentinel_*/*.tif'):\n",
    "     sen_map.append(sentinel_img))\n",
    "\n",
    "df_p = pd.DataFrame({'img_path': pla_map[::2])\n"
   ]
  },
  {
   "cell_type": "code",
   "execution_count": null,
   "metadata": {
    "id": "uYQUD959DDc1"
   },
   "outputs": [],
   "source": [
    "# function for splitting\n",
    "\n",
    "def gtiff_split(map, out_pth):\n",
    "  for i in map: \n",
    "    tiff_name = i\n",
    "    new_dir = tiff_name.split('\\\\')[-1]\n",
    "    os.mkdir(new_dir)\n",
    "    new_path = os.path.join(out_path, new_dir) #out_path/some_name\n",
    "    create_tiles(i, new_path)"
   ]
  },
  {
   "cell_type": "code",
   "execution_count": null,
   "metadata": {
    "id": "2sGCWpkDCgw1"
   },
   "outputs": [],
   "source": [
    "pla_pth = \"\" # fill in path to results empty dir. should end n '/'\n",
    "sen_pth = r\"\" # fill in path to results empty dir"
   ]
  },
  {
   "cell_type": "code",
   "execution_count": null,
   "metadata": {
    "id": "9g6AyL6TDR9k"
   },
   "outputs": [],
   "source": [
    "gtiff_split(pla_map, pla_pth)\n",
    "gtiff_split(sen_map, sen_pth)"
   ]
  },
  {
   "cell_type": "markdown",
   "metadata": {
    "id": "QUgOmssj9w-4"
   },
   "source": [
    "## Convert 4-band GTiff to 3-band RGB"
   ]
  },
  {
   "cell_type": "code",
   "execution_count": null,
   "metadata": {
    "id": "LrFJpeaEqFP0"
   },
   "outputs": [],
   "source": [
    "# Extract the first 3 bands as bytes to RGB raster\n",
    "def b4_to_b3(in_tif, out_tif):\n",
    "  for file in glob.glob1(in_tif, '*.tif'):\n",
    "    cmd = ['gdal_translate', '-of', 'GTiff', '-b', '1', '-b', '2', '-b', '3', in_tif + file, out_tif + file]\n",
    "    print(\"Conversion command:\", cmd)\n",
    "    subprocess.call(cmd)\n",
    "  print(f\"success! all 4-band tifs have been converted to 3-bands\")"
   ]
  },
  {
   "cell_type": "code",
   "execution_count": null,
   "metadata": {
    "id": "j-pJXqC3s3Sp"
   },
   "outputs": [],
   "source": [
    "in_tif = \"/content/drive/MyDrive/1668_tif_data_pla/Planet_G5_FullScene/\"\n",
    "out_tif = \"/content/drive/MyDrive/b_tif_3b/\""
   ]
  },
  {
   "cell_type": "code",
   "execution_count": null,
   "metadata": {
    "colab": {
     "base_uri": "https://localhost:8080/"
    },
    "id": "GkwoWrSwiKkh",
    "outputId": "41c83cd3-7605-48e0-bf76-9b070f33e1b5"
   },
   "outputs": [
    {
     "name": "stdout",
     "output_type": "stream",
     "text": [
      "Conversion command: ['gdal_translate', '-of', 'GTiff', '-b', '1', '-b', '2', '-b', '3', '/content/drive/MyDrive/1668_tif_data_pla/Planet_G5_FullScene/20170217_131803-04_Mosaic_clip.tif', '/content/drive/MyDrive/b_tif_3b/20170217_131803-04_Mosaic_clip.tif']\n",
      "Conversion command: ['gdal_translate', '-of', 'GTiff', '-b', '1', '-b', '2', '-b', '3', '/content/drive/MyDrive/1668_tif_data_pla/Planet_G5_FullScene/20170810_145354-55_Mosaic_clip.tif', '/content/drive/MyDrive/b_tif_3b/20170810_145354-55_Mosaic_clip.tif']\n",
      "Conversion command: ['gdal_translate', '-of', 'GTiff', '-b', '1', '-b', '2', '-b', '3', '/content/drive/MyDrive/1668_tif_data_pla/Planet_G5_FullScene/20170929_145602-03_Mosaic_Clip.tif', '/content/drive/MyDrive/b_tif_3b/20170929_145602-03_Mosaic_Clip.tif']\n",
      "Conversion command: ['gdal_translate', '-of', 'GTiff', '-b', '1', '-b', '2', '-b', '3', '/content/drive/MyDrive/1668_tif_data_pla/Planet_G5_FullScene/20180225_150221-22_Mosaic_clip.tif', '/content/drive/MyDrive/b_tif_3b/20180225_150221-22_Mosaic_clip.tif']\n",
      "Conversion command: ['gdal_translate', '-of', 'GTiff', '-b', '1', '-b', '2', '-b', '3', '/content/drive/MyDrive/1668_tif_data_pla/Planet_G5_FullScene/20171007_162334_0f36_3B_AnalyticMS_SR_clip.tif', '/content/drive/MyDrive/b_tif_3b/20171007_162334_0f36_3B_AnalyticMS_SR_clip.tif']\n",
      "Conversion command: ['gdal_translate', '-of', 'GTiff', '-b', '1', '-b', '2', '-b', '3', '/content/drive/MyDrive/1668_tif_data_pla/Planet_G5_FullScene/20180711_150704_1044_3B_AnalyticMS_SR_clip.tif', '/content/drive/MyDrive/b_tif_3b/20180711_150704_1044_3B_AnalyticMS_SR_clip.tif']\n",
      "Conversion command: ['gdal_translate', '-of', 'GTiff', '-b', '1', '-b', '2', '-b', '3', '/content/drive/MyDrive/1668_tif_data_pla/Planet_G5_FullScene/20181014_151006-07_Mosaic_clip.tif', '/content/drive/MyDrive/b_tif_3b/20181014_151006-07_Mosaic_clip.tif']\n",
      "Conversion command: ['gdal_translate', '-of', 'GTiff', '-b', '1', '-b', '2', '-b', '3', '/content/drive/MyDrive/1668_tif_data_pla/Planet_G5_FullScene/20190302_162736_82_106f_3B_AnalyticMS_SR_clip.tif', '/content/drive/MyDrive/b_tif_3b/20190302_162736_82_106f_3B_AnalyticMS_SR_clip.tif']\n",
      "Conversion command: ['gdal_translate', '-of', 'GTiff', '-b', '1', '-b', '2', '-b', '3', '/content/drive/MyDrive/1668_tif_data_pla/Planet_G5_FullScene/20181014_152751-52_Mosaic_clip.tif', '/content/drive/MyDrive/b_tif_3b/20181014_152751-52_Mosaic_clip.tif']\n",
      "Conversion command: ['gdal_translate', '-of', 'GTiff', '-b', '1', '-b', '2', '-b', '3', '/content/drive/MyDrive/1668_tif_data_pla/Planet_G5_FullScene/20190511_150620-21_Mosaic_clip.tif', '/content/drive/MyDrive/b_tif_3b/20190511_150620-21_Mosaic_clip.tif']\n",
      "Conversion command: ['gdal_translate', '-of', 'GTiff', '-b', '1', '-b', '2', '-b', '3', '/content/drive/MyDrive/1668_tif_data_pla/Planet_G5_FullScene/20190512_151436-37_Mosaic_clip.tif', '/content/drive/MyDrive/b_tif_3b/20190512_151436-37_Mosaic_clip.tif']\n",
      "Conversion command: ['gdal_translate', '-of', 'GTiff', '-b', '1', '-b', '2', '-b', '3', '/content/drive/MyDrive/1668_tif_data_pla/Planet_G5_FullScene/20200110_153906_21_1064_3B_AnalyticMS_SR_clip.tif', '/content/drive/MyDrive/b_tif_3b/20200110_153906_21_1064_3B_AnalyticMS_SR_clip.tif']\n",
      "Conversion command: ['gdal_translate', '-of', 'GTiff', '-b', '1', '-b', '2', '-b', '3', '/content/drive/MyDrive/1668_tif_data_pla/Planet_G5_FullScene/20190716_151611-12_Mosaic_clip.tif', '/content/drive/MyDrive/b_tif_3b/20190716_151611-12_Mosaic_clip.tif']\n",
      "Conversion command: ['gdal_translate', '-of', 'GTiff', '-b', '1', '-b', '2', '-b', '3', '/content/drive/MyDrive/1668_tif_data_pla/Planet_G5_FullScene/20201122_132434_1020_3B_AnalyticMS_SR_clip.tif', '/content/drive/MyDrive/b_tif_3b/20201122_132434_1020_3B_AnalyticMS_SR_clip.tif']\n",
      "Conversion command: ['gdal_translate', '-of', 'GTiff', '-b', '1', '-b', '2', '-b', '3', '/content/drive/MyDrive/1668_tif_data_pla/Planet_G5_FullScene/20200826_151816_1003_3B_AnalyticMS_SR_clip.tif', '/content/drive/MyDrive/b_tif_3b/20200826_151816_1003_3B_AnalyticMS_SR_clip.tif']\n",
      "Conversion command: ['gdal_translate', '-of', 'GTiff', '-b', '1', '-b', '2', '-b', '3', '/content/drive/MyDrive/1668_tif_data_pla/Planet_G5_FullScene/20210213_150035-36_Mosaic_clip.tif', '/content/drive/MyDrive/b_tif_3b/20210213_150035-36_Mosaic_clip.tif']\n",
      "Conversion command: ['gdal_translate', '-of', 'GTiff', '-b', '1', '-b', '2', '-b', '3', '/content/drive/MyDrive/1668_tif_data_pla/Planet_G5_FullScene/20210214_145336_45_2212_3B_AnalyticMS_SR_clip.tif', '/content/drive/MyDrive/b_tif_3b/20210214_145336_45_2212_3B_AnalyticMS_SR_clip.tif']\n",
      "success! all 4-band tifs have been converted to 3-bands\n"
     ]
    }
   ],
   "source": [
    "b4_to_b3(in_tif, out_tif)"
   ]
  },
  {
   "cell_type": "markdown",
   "metadata": {
    "id": "uDa0BLqKlQub"
   },
   "source": [
    "## set nodata"
   ]
  },
  {
   "cell_type": "code",
   "execution_count": null,
   "metadata": {
    "id": "oPEnGqoGlhW4"
   },
   "outputs": [],
   "source": [
    "# function removes any no data value and sets the 3-b GTiff to n/a\n",
    "def set_no_data(tif):\n",
    "  for file in os.listdir(tif):\n",
    "    cmd = ['gdal_edit.py', '-unsetnodata', tif+file]\n",
    "    print(\"nodata command:\", cmd)\n",
    "    subprocess.call(cmd)\n",
    "  print('no_data settings complete')"
   ]
  },
  {
   "cell_type": "code",
   "execution_count": null,
   "metadata": {
    "id": "vehSCLQlnnMI"
   },
   "outputs": [],
   "source": [
    "# 3-band tif directory\n",
    "band_3_tif = \"/content/drive/MyDrive/b_tif_3b/\""
   ]
  },
  {
   "cell_type": "code",
   "execution_count": null,
   "metadata": {
    "colab": {
     "base_uri": "https://localhost:8080/"
    },
    "id": "cy3Vur_An0Z9",
    "outputId": "97688c97-5b97-4e80-f967-47d0cc93a6a6"
   },
   "outputs": [
    {
     "name": "stdout",
     "output_type": "stream",
     "text": [
      "nodata command: ['gdal_edit.py', '-unsetnodata', '/content/drive/MyDrive/b_tif_3b/20170217_131803-04_Mosaic_clip.tif']\n",
      "nodata command: ['gdal_edit.py', '-unsetnodata', '/content/drive/MyDrive/b_tif_3b/20170810_145354-55_Mosaic_clip.tif']\n",
      "nodata command: ['gdal_edit.py', '-unsetnodata', '/content/drive/MyDrive/b_tif_3b/20170929_145602-03_Mosaic_Clip.tif']\n",
      "nodata command: ['gdal_edit.py', '-unsetnodata', '/content/drive/MyDrive/b_tif_3b/20180225_150221-22_Mosaic_clip.tif']\n",
      "nodata command: ['gdal_edit.py', '-unsetnodata', '/content/drive/MyDrive/b_tif_3b/20171007_162334_0f36_3B_AnalyticMS_SR_clip.tif']\n",
      "nodata command: ['gdal_edit.py', '-unsetnodata', '/content/drive/MyDrive/b_tif_3b/20180711_150704_1044_3B_AnalyticMS_SR_clip.tif']\n",
      "nodata command: ['gdal_edit.py', '-unsetnodata', '/content/drive/MyDrive/b_tif_3b/20181014_151006-07_Mosaic_clip.tif']\n",
      "nodata command: ['gdal_edit.py', '-unsetnodata', '/content/drive/MyDrive/b_tif_3b/20190302_162736_82_106f_3B_AnalyticMS_SR_clip.tif']\n",
      "nodata command: ['gdal_edit.py', '-unsetnodata', '/content/drive/MyDrive/b_tif_3b/20181014_152751-52_Mosaic_clip.tif']\n",
      "nodata command: ['gdal_edit.py', '-unsetnodata', '/content/drive/MyDrive/b_tif_3b/20190511_150620-21_Mosaic_clip.tif']\n",
      "nodata command: ['gdal_edit.py', '-unsetnodata', '/content/drive/MyDrive/b_tif_3b/20190512_151436-37_Mosaic_clip.tif']\n",
      "nodata command: ['gdal_edit.py', '-unsetnodata', '/content/drive/MyDrive/b_tif_3b/20200110_153906_21_1064_3B_AnalyticMS_SR_clip.tif']\n",
      "nodata command: ['gdal_edit.py', '-unsetnodata', '/content/drive/MyDrive/b_tif_3b/20190716_151611-12_Mosaic_clip.tif']\n",
      "nodata command: ['gdal_edit.py', '-unsetnodata', '/content/drive/MyDrive/b_tif_3b/20201122_132434_1020_3B_AnalyticMS_SR_clip.tif']\n",
      "nodata command: ['gdal_edit.py', '-unsetnodata', '/content/drive/MyDrive/b_tif_3b/20200826_151816_1003_3B_AnalyticMS_SR_clip.tif']\n",
      "nodata command: ['gdal_edit.py', '-unsetnodata', '/content/drive/MyDrive/b_tif_3b/20210213_150035-36_Mosaic_clip.tif']\n",
      "nodata command: ['gdal_edit.py', '-unsetnodata', '/content/drive/MyDrive/b_tif_3b/20210214_145336_45_2212_3B_AnalyticMS_SR_clip.tif']\n",
      "no_data settings complete\n"
     ]
    }
   ],
   "source": [
    "set_no_data(band_3_tif)"
   ]
  },
  {
   "cell_type": "markdown",
   "metadata": {
    "id": "JymtqblS-jAv"
   },
   "source": [
    "## Converts geotiffs to png"
   ]
  },
  {
   "cell_type": "code",
   "execution_count": null,
   "metadata": {
    "id": "0H9iQeXBeQm6"
   },
   "outputs": [],
   "source": [
    "# function converts 16bit tif to 8bit and saves as png image\n",
    "def geotiff_to_png(input_tiff_img, output_png_img, output_pix_type='Byte', output_format='png'):\n",
    "\n",
    "    img_src = gdal.Open(input_tiff_img)\n",
    "\n",
    "    cmd = ['gdal_translate', '-ot', output_pix_type, '-of', output_format]\n",
    "\n",
    "    for band_id in range(img_src.RasterCount):\n",
    "        band_id = band_id + 1\n",
    "        band = img_src.GetRasterBand(band_id)\n",
    "\n",
    "        # cal the band minimum and max values of raster\n",
    "        b_min = band.GetMinimum()\n",
    "        b_max = band.GetMaximum()\n",
    "\n",
    "        # if not exist minimum and maximum values\n",
    "        if b_min is None or b_max is None:\n",
    "          (b_min, b_max) = band.ComputeRasterMinMax(1)\n",
    "          if b_min > 0 and b_min == b_max:\n",
    "            b_min -= 1\n",
    "\n",
    "        cmd.append('-scale_{}'.format(band_id))\n",
    "        cmd.append('{}'.format(b_min))\n",
    "        cmd.append('{}'.format(b_max))\n",
    "        cmd.append('{}'.format(0))\n",
    "        cmd.append('{}'.format(255))\n",
    "\n",
    "    cmd.append(input_tiff_img)\n",
    "    cmd.append(output_png_img)\n",
    "    print(\"Conversion command:\", cmd)\n",
    "    subprocess.call(cmd)"
   ]
  },
  {
   "cell_type": "code",
   "execution_count": null,
   "metadata": {
    "id": "aTacYn2vfUi5"
   },
   "outputs": [],
   "source": [
    "# function that activates the converter wrt geotiff in input path\n",
    "def converter(input_path, output_path):\n",
    "    # convert each file to output\n",
    "    for file in os.listdir(input_path):\n",
    "        geotiff_to_png(os.path.join(input_path, file), (output_path + file[:-3] + \"png\"))\n",
    "    print(f\"success! all files have been converted to png\")"
   ]
  },
  {
   "cell_type": "code",
   "execution_count": null,
   "metadata": {
    "id": "b5Y79HNWf9MG"
   },
   "outputs": [],
   "source": [
    "# move xml extension files from png_path to its xml_path\n",
    "def separate_png_xml(src_path, dst_path, ext):\n",
    "    for file in fnmatch.filter(os.listdir(src_path), ext):\n",
    "        shutil.move(os.path.join(src_path, file), os.path.join(dst_path, file))\n",
    "    print(f\"success!! xml file has been moved to Palm_xml\")"
   ]
  },
  {
   "cell_type": "code",
   "execution_count": null,
   "metadata": {
    "id": "OLvqwPbqdiWK"
   },
   "outputs": [],
   "source": [
    "# directories\n",
    "geotiff_path = \"/content/drive/MyDrive/b_tif_3b/\"\n",
    "png_path = \"/content/drive/MyDrive/c_png/\"\n",
    "xml_path = \"/content/drive/MyDrive/xml/\""
   ]
  },
  {
   "cell_type": "code",
   "execution_count": null,
   "metadata": {
    "colab": {
     "base_uri": "https://localhost:8080/"
    },
    "id": "LCbMF8L4eFuo",
    "outputId": "feb09cd5-44ad-4610-9976-5e2479aa6022"
   },
   "outputs": [
    {
     "name": "stdout",
     "output_type": "stream",
     "text": [
      "Conversion command: ['gdal_translate', '-ot', 'Byte', '-of', 'png', '-scale_1', '2286.0', '3341.0', '0', '255', '-scale_2', '1706.0', '2815.0', '0', '255', '-scale_3', '983.0', '2124.0', '0', '255', '/content/drive/MyDrive/b_tif_3b/20170217_131803-04_Mosaic_clip.tif', '/content/drive/MyDrive/c_png/20170217_131803-04_Mosaic_clip.png']\n",
      "Conversion command: ['gdal_translate', '-ot', 'Byte', '-of', 'png', '-scale_1', '7.0', '2231.0', '0', '255', '-scale_2', '92.0', '2277.0', '0', '255', '-scale_3', '87.0', '2295.0', '0', '255', '/content/drive/MyDrive/b_tif_3b/20170810_145354-55_Mosaic_clip.tif', '/content/drive/MyDrive/c_png/20170810_145354-55_Mosaic_clip.png']\n",
      "Conversion command: ['gdal_translate', '-ot', 'Byte', '-of', 'png', '-scale_1', '0.0', '1068.0', '0', '255', '-scale_2', '0.0', '1189.0', '0', '255', '-scale_3', '0.0', '1180.0', '0', '255', '/content/drive/MyDrive/b_tif_3b/20170929_145602-03_Mosaic_Clip.tif', '/content/drive/MyDrive/c_png/20170929_145602-03_Mosaic_Clip.png']\n",
      "Conversion command: ['gdal_translate', '-ot', 'Byte', '-of', 'png', '-scale_1', '171.0', '2283.0', '0', '255', '-scale_2', '231.0', '2343.0', '0', '255', '-scale_3', '187.0', '2275.0', '0', '255', '/content/drive/MyDrive/b_tif_3b/20180225_150221-22_Mosaic_clip.tif', '/content/drive/MyDrive/c_png/20180225_150221-22_Mosaic_clip.png']\n",
      "Conversion command: ['gdal_translate', '-ot', 'Byte', '-of', 'png', '-scale_1', '154.0', '1045.0', '0', '255', '-scale_2', '244.0', '1182.0', '0', '255', '-scale_3', '182.0', '1157.0', '0', '255', '/content/drive/MyDrive/b_tif_3b/20171007_162334_0f36_3B_AnalyticMS_SR_clip.tif', '/content/drive/MyDrive/c_png/20171007_162334_0f36_3B_AnalyticMS_SR_clip.png']\n",
      "Conversion command: ['gdal_translate', '-ot', 'Byte', '-of', 'png', '-scale_1', '53.0', '1527.0', '0', '255', '-scale_2', '155.0', '1654.0', '0', '255', '-scale_3', '142.0', '1651.0', '0', '255', '/content/drive/MyDrive/b_tif_3b/20180711_150704_1044_3B_AnalyticMS_SR_clip.tif', '/content/drive/MyDrive/c_png/20180711_150704_1044_3B_AnalyticMS_SR_clip.png']\n",
      "Conversion command: ['gdal_translate', '-ot', 'Byte', '-of', 'png', '-scale_1', '126.0', '843.0', '0', '255', '-scale_2', '205.0', '986.0', '0', '255', '-scale_3', '175.0', '1107.0', '0', '255', '/content/drive/MyDrive/b_tif_3b/20181014_151006-07_Mosaic_clip.tif', '/content/drive/MyDrive/c_png/20181014_151006-07_Mosaic_clip.png']\n",
      "Conversion command: ['gdal_translate', '-ot', 'Byte', '-of', 'png', '-scale_1', '351.0', '698.0', '0', '255', '-scale_2', '481.0', '1394.0', '0', '255', '-scale_3', '369.0', '1271.0', '0', '255', '/content/drive/MyDrive/b_tif_3b/20190302_162736_82_106f_3B_AnalyticMS_SR_clip.tif', '/content/drive/MyDrive/c_png/20190302_162736_82_106f_3B_AnalyticMS_SR_clip.png']\n",
      "Conversion command: ['gdal_translate', '-ot', 'Byte', '-of', 'png', '-scale_1', '186.0', '815.0', '0', '255', '-scale_2', '252.0', '949.0', '0', '255', '-scale_3', '181.0', '1030.0', '0', '255', '/content/drive/MyDrive/b_tif_3b/20181014_152751-52_Mosaic_clip.tif', '/content/drive/MyDrive/c_png/20181014_152751-52_Mosaic_clip.png']\n",
      "Conversion command: ['gdal_translate', '-ot', 'Byte', '-of', 'png', '-scale_1', '207.0', '5590.0', '0', '255', '-scale_2', '294.0', '3706.0', '0', '255', '-scale_3', '289.0', '5025.0', '0', '255', '/content/drive/MyDrive/b_tif_3b/20190511_150620-21_Mosaic_clip.tif', '/content/drive/MyDrive/c_png/20190511_150620-21_Mosaic_clip.png']\n",
      "Conversion command: ['gdal_translate', '-ot', 'Byte', '-of', 'png', '-scale_1', '132.0', '6914.0', '0', '255', '-scale_2', '191.0', '4947.0', '0', '255', '-scale_3', '142.0', '7242.0', '0', '255', '/content/drive/MyDrive/b_tif_3b/20190512_151436-37_Mosaic_clip.tif', '/content/drive/MyDrive/c_png/20190512_151436-37_Mosaic_clip.png']\n",
      "Conversion command: ['gdal_translate', '-ot', 'Byte', '-of', 'png', '-scale_1', '54.0', '5296.0', '0', '255', '-scale_2', '119.0', '6334.0', '0', '255', '-scale_3', '93.0', '6637.0', '0', '255', '/content/drive/MyDrive/b_tif_3b/20200110_153906_21_1064_3B_AnalyticMS_SR_clip.tif', '/content/drive/MyDrive/c_png/20200110_153906_21_1064_3B_AnalyticMS_SR_clip.png']\n",
      "Conversion command: ['gdal_translate', '-ot', 'Byte', '-of', 'png', '-scale_1', '118.0', '726.0', '0', '255', '-scale_2', '181.0', '759.0', '0', '255', '-scale_3', '143.0', '765.0', '0', '255', '/content/drive/MyDrive/b_tif_3b/20190716_151611-12_Mosaic_clip.tif', '/content/drive/MyDrive/c_png/20190716_151611-12_Mosaic_clip.png']\n",
      "Conversion command: ['gdal_translate', '-ot', 'Byte', '-of', 'png', '-scale_1', '15.0', '1120.0', '0', '255', '-scale_2', '100.0', '1303.0', '0', '255', '-scale_3', '85.0', '1329.0', '0', '255', '/content/drive/MyDrive/b_tif_3b/20201122_132434_1020_3B_AnalyticMS_SR_clip.tif', '/content/drive/MyDrive/c_png/20201122_132434_1020_3B_AnalyticMS_SR_clip.png']\n",
      "Conversion command: ['gdal_translate', '-ot', 'Byte', '-of', 'png', '-scale_1', '81.0', '655.0', '0', '255', '-scale_2', '287.0', '775.0', '0', '255', '-scale_3', '270.0', '873.0', '0', '255', '/content/drive/MyDrive/b_tif_3b/20200826_151816_1003_3B_AnalyticMS_SR_clip.tif', '/content/drive/MyDrive/c_png/20200826_151816_1003_3B_AnalyticMS_SR_clip.png']\n",
      "Conversion command: ['gdal_translate', '-ot', 'Byte', '-of', 'png', '-scale_1', '0.0', '4660.0', '0', '255', '-scale_2', '0.0', '3992.0', '0', '255', '-scale_3', '0.0', '4703.0', '0', '255', '/content/drive/MyDrive/b_tif_3b/20210213_150035-36_Mosaic_clip.tif', '/content/drive/MyDrive/c_png/20210213_150035-36_Mosaic_clip.png']\n",
      "Conversion command: ['gdal_translate', '-ot', 'Byte', '-of', 'png', '-scale_1', '1.0', '618.0', '0', '255', '-scale_2', '64.0', '840.0', '0', '255', '-scale_3', '42.0', '779.0', '0', '255', '/content/drive/MyDrive/b_tif_3b/20210214_145336_45_2212_3B_AnalyticMS_SR_clip.tif', '/content/drive/MyDrive/c_png/20210214_145336_45_2212_3B_AnalyticMS_SR_clip.png']\n",
      "success! all files have been converted to png\n"
     ]
    }
   ],
   "source": [
    "# Convert the geotiffs to png\n",
    "converter(input_path=geotiff_path, output_path=png_path)"
   ]
  },
  {
   "cell_type": "code",
   "execution_count": null,
   "metadata": {
    "colab": {
     "base_uri": "https://localhost:8080/",
     "height": 286
    },
    "id": "4_OueCQRGkoo",
    "outputId": "8d31eb4f-e723-4ee5-de49-f4d4fae85a6e"
   },
   "outputs": [
    {
     "name": "stdout",
     "output_type": "stream",
     "text": [
      "Populating the interactive namespace from numpy and matplotlib\n"
     ]
    },
    {
     "data": {
      "image/png": "[encoded data removed]",
      "text/plain": [
       "<Figure size 432x288 with 1 Axes>"
      ]
     },
     "metadata": {
      "needs_background": "light"
     },
     "output_type": "display_data"
    }
   ],
   "source": [
    "%pylab inline\n",
    "import matplotlib.pyplot as plt\n",
    "import matplotlib.image as mpimg\n",
    "img = mpimg.imread('/content/drive/MyDrive/1668_tif_mask_png/20170501_145608-07_Mosaic_Clip.png')\n",
    "imgplot = plt.imshow(img)\n",
    "plt.show()"
   ]
  },
  {
   "cell_type": "code",
   "execution_count": null,
   "metadata": {
    "colab": {
     "base_uri": "https://localhost:8080/"
    },
    "id": "tf2-Y6WveRo2",
    "outputId": "63c612c3-ba62-4b50-8327-4e7e9c5098ee"
   },
   "outputs": [
    {
     "name": "stdout",
     "output_type": "stream",
     "text": [
      "success!! xml file has been moved to Palm_xml\n"
     ]
    }
   ],
   "source": [
    "# Remove the all xml files from the png directory to xml folder\n",
    "separate_png_xml(src_path=png_path, dst_path=xml_path, ext='*.xml')"
   ]
  },
  {
   "cell_type": "code",
   "execution_count": null,
   "metadata": {
    "id": "6HP83DBnPrY-"
   },
   "outputs": [],
   "source": [
    "# function to delete files in directories.\n",
    "\n",
    "def del_files(in_path):\n",
    "  for file in os.listdir(in_path):\n",
    "      file_path = os.path.join(in_path, file)\n",
    "      try:\n",
    "          if os.path.isfile(file_path) or os.path.islink(file_path):\n",
    "              os.unlink(file_path)\n",
    "          elif os.path.isdir(file_path):\n",
    "              shutil.rmtree(file_path)\n",
    "      except Exception as e:\n",
    "          print('file deletion failed %s. Reason: %s' % (file_path, e))"
   ]
  },
  {
   "cell_type": "code",
   "execution_count": null,
   "metadata": {
    "id": "l3_Bj0g6QrNr"
   },
   "outputs": [],
   "source": [
    "in_path= '/content/drive/MyDrive/b_tif_3b/'\n",
    "del_files(in_path)\n",
    "in_path1 = '/content/drive/MyDrive/c_png/'\n",
    "del_files(in_path1)\n",
    "in_path2 = '/content/drive/MyDrive/xml/'\n",
    "del_files(in_path2)"
   ]
  },
  {
   "cell_type": "code",
   "execution_count": null,
   "metadata": {
    "id": "NPLQdZIMR25j"
   },
   "outputs": [],
   "source": [
    "# find the number of images channels in a particular image\n",
    "image = '/content/drive/MyDrive/images/Kudos1.png'\n",
    "\n",
    "img = Image.open(image)\n",
    "\n",
    "im1 = Image.Image.getbands(img)\n",
    "\n",
    "print(im1)\n",
    "\n",
    "# convert to numpy array\n",
    "img = np.array(img)\n",
    "\n",
    "# find number of channels\n",
    "if img.ndim == 2:\n",
    "    channels = 1\n",
    "    print(\"image has 1 channel\")\n",
    "else:\n",
    "    channels = img.shape[-1]\n",
    "    print(\"image has\", channels, \"channels\")"
   ]
  }
 ],
 "metadata": {
  "colab": {
   "provenance": []
  },
  "kernelspec": {
   "display_name": "Python 3 (ipykernel)",
   "language": "python",
   "name": "python3"
  },
  "language_info": {
   "codemirror_mode": {
    "name": "ipython",
    "version": 3
   },
   "file_extension": ".py",
   "mimetype": "text/x-python",
   "name": "python",
   "nbconvert_exporter": "python",
   "pygments_lexer": "ipython3",
   "version": "3.10.6"
  }
 },
 "nbformat": 4,
 "nbformat_minor": 1
}
